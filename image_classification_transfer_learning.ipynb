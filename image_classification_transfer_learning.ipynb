{
  "nbformat": 4,
  "nbformat_minor": 0,
  "metadata": {
    "colab": {
      "provenance": [],
      "authorship_tag": "ABX9TyNirtDp5M1osX10C+J4XPco",
      "include_colab_link": true
    },
    "kernelspec": {
      "name": "python3",
      "display_name": "Python 3"
    },
    "language_info": {
      "name": "python"
    }
  },
  "cells": [
    {
      "cell_type": "markdown",
      "metadata": {
        "id": "view-in-github",
        "colab_type": "text"
      },
      "source": [
        "<a href=\"https://colab.research.google.com/github/Jayrbsn/image-classification-transfer-learning/blob/main/image_classification_transfer_learning.ipynb\" target=\"_parent\"><img src=\"https://colab.research.google.com/assets/colab-badge.svg\" alt=\"Open In Colab\"/></a>"
      ]
    },
    {
      "cell_type": "code",
      "source": [
        "# Cell 1: imports and config\n",
        "import tensorflow as tf\n",
        "import tensorflow_datasets as tfds\n",
        "import matplotlib.pyplot as plt\n",
        "\n",
        "AUTOTUNE = tf.data.AUTOTUNE\n",
        "IMG_SIZE = 224    # MobileNetV2 typical input\n",
        "BATCH_SIZE = 32\n"
      ],
      "metadata": {
        "id": "dhhESLfAqVfb"
      },
      "execution_count": null,
      "outputs": []
    },
    {
      "cell_type": "code",
      "source": [
        "# Cell 2: load tf_flowers (80/20 split)\n",
        "(ds_train, ds_val), ds_info = tfds.load(\n",
        "    'tf_flowers',\n",
        "    split=['train[:80%]', 'train[80%:]'],\n",
        "    as_supervised=True,   # returns (image, label)\n",
        "    with_info=True\n",
        ")\n",
        "\n",
        "num_classes = ds_info.features['label'].num_classes\n",
        "class_names = ds_info.features['label'].names\n",
        "\n",
        "print(\"Num classes:\", num_classes)\n",
        "print(\"Class names:\", class_names)\n"
      ],
      "metadata": {
        "id": "puwlrjkjqcrh"
      },
      "execution_count": null,
      "outputs": []
    },
    {
      "cell_type": "code",
      "source": [
        "# Cell 3: preprocessing + batching\n",
        "from tensorflow.keras.applications.mobilenet_v2 import preprocess_input\n",
        "\n",
        "def preprocess(image, label):\n",
        "    image = tf.image.resize(image, [IMG_SIZE, IMG_SIZE])\n",
        "    image = tf.cast(image, tf.float32)\n",
        "    image = preprocess_input(image)   # scales to [-1, 1] for MobileNetV2\n",
        "    return image, label\n",
        "\n",
        "ds_train = ds_train.map(preprocess, num_parallel_calls=AUTOTUNE)\n",
        "ds_train = ds_train.shuffle(1000).batch(BATCH_SIZE).prefetch(AUTOTUNE)\n",
        "\n",
        "ds_val = ds_val.map(preprocess, num_parallel_calls=AUTOTUNE)\n",
        "ds_val = ds_val.batch(BATCH_SIZE).prefetch(AUTOTUNE)\n",
        "\n",
        "print(\"Train batches:\", tf.data.experimental.cardinality(ds_train).numpy())\n",
        "print(\"Val batches:  \", tf.data.experimental.cardinality(ds_val).numpy())\n"
      ],
      "metadata": {
        "id": "IH6Od_H-qiu4"
      },
      "execution_count": null,
      "outputs": []
    },
    {
      "cell_type": "code",
      "source": [
        "# Cell 4: plot a few training images (convert from [-1,1] to [0,1] for display)\n",
        "plt.figure(figsize=(8,8))\n",
        "for images, labels in ds_train.take(1):\n",
        "    for i in range(9):\n",
        "        ax = plt.subplot(3,3,i+1)\n",
        "        img = images[i].numpy()\n",
        "        img = (img + 1.0) / 2.0   # [-1,1] -> [0,1]\n",
        "        plt.imshow(img)\n",
        "        plt.title(class_names[int(labels[i])])\n",
        "        plt.axis('off')\n"
      ],
      "metadata": {
        "id": "-ZFDC2mvqnru"
      },
      "execution_count": null,
      "outputs": []
    },
    {
      "cell_type": "code",
      "source": [],
      "metadata": {
        "id": "94ljI5BhqszN"
      },
      "execution_count": null,
      "outputs": []
    }
  ]
}